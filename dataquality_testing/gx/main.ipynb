{
 "cells": [
  {
   "cell_type": "code",
   "execution_count": 1,
   "id": "1ee01a31",
   "metadata": {},
   "outputs": [],
   "source": [
    "import great_expectations as gx\n",
    "\n",
    "context = gx.get_context(mode=\"file\")"
   ]
  },
  {
   "cell_type": "code",
   "execution_count": 2,
   "id": "2602f233",
   "metadata": {},
   "outputs": [],
   "source": [
    "source_folder = \"../data\"\n",
    "data_source_name = \"local_filesystems\"\n",
    "\n",
    "# Create the Data Source:\n",
    "data_source = context.data_sources.add_pandas_filesystem(\n",
    "    name=data_source_name, base_directory=source_folder\n",
    ")"
   ]
  },
  {
   "cell_type": "code",
   "execution_count": 5,
   "id": "4cd4f971",
   "metadata": {},
   "outputs": [],
   "source": [
    "\n",
    "# Define the Data Asset's parameters:\n",
    "asset_name = \"ecommerce_dat\"\n",
    "# Add the Data Asset to the Data Source:\n",
    "file_csv_asset = data_source.add_csv_asset(name=asset_name)"
   ]
  },
  {
   "cell_type": "code",
   "execution_count": 6,
   "id": "1f996e02",
   "metadata": {},
   "outputs": [
    {
     "ename": "ValueError",
     "evalue": "\"ecommerce_dat\" already exists (all existing assets are ecommerce_dat, ecommerce_datas)",
     "output_type": "error",
     "traceback": [
      "\u001b[0;31m---------------------------------------------------------------------------\u001b[0m",
      "\u001b[0;31mValueError\u001b[0m                                Traceback (most recent call last)",
      "Cell \u001b[0;32mIn[6], line 4\u001b[0m\n\u001b[1;32m      2\u001b[0m data_asset_name \u001b[38;5;241m=\u001b[39m \u001b[38;5;124m\"\u001b[39m\u001b[38;5;124mecommerce_dat\u001b[39m\u001b[38;5;124m\"\u001b[39m\n\u001b[1;32m      3\u001b[0m data_source \u001b[38;5;241m=\u001b[39m context\u001b[38;5;241m.\u001b[39mdata_sources\u001b[38;5;241m.\u001b[39mget(data_source_name)\n\u001b[0;32m----> 4\u001b[0m file_csv_asset \u001b[38;5;241m=\u001b[39m \u001b[43mdata_source\u001b[49m\u001b[38;5;241;43m.\u001b[39;49m\u001b[43madd_csv_asset\u001b[49m\u001b[43m(\u001b[49m\u001b[43mdata_asset_name\u001b[49m\u001b[43m)\u001b[49m\n",
      "File \u001b[0;32m~/.local/lib/python3.10/site-packages/great_expectations/datasource/fluent/sources.py:306\u001b[0m, in \u001b[0;36mDataSourceManager._bind_asset_factory_method_if_not_present.<locals>._add_asset_factory\u001b[0;34m(self, name, **kwargs)\u001b[0m\n\u001b[1;32m    303\u001b[0m     connect_options \u001b[38;5;241m=\u001b[39m {}\n\u001b[1;32m    305\u001b[0m asset \u001b[38;5;241m=\u001b[39m asset_type(name\u001b[38;5;241m=\u001b[39mname, \u001b[38;5;241m*\u001b[39m\u001b[38;5;241m*\u001b[39mkwargs)\n\u001b[0;32m--> 306\u001b[0m \u001b[38;5;28;01mreturn\u001b[39;00m \u001b[38;5;28;43mself\u001b[39;49m\u001b[38;5;241;43m.\u001b[39;49m\u001b[43m_add_asset\u001b[49m\u001b[43m(\u001b[49m\u001b[43masset\u001b[49m\u001b[43m,\u001b[49m\u001b[43m \u001b[49m\u001b[43mconnect_options\u001b[49m\u001b[38;5;241;43m=\u001b[39;49m\u001b[43mconnect_options\u001b[49m\u001b[43m)\u001b[49m\n",
      "File \u001b[0;32m~/.local/lib/python3.10/site-packages/great_expectations/datasource/fluent/pandas_datasource.py:616\u001b[0m, in \u001b[0;36m_PandasDatasource._add_asset\u001b[0;34m(self, asset, connect_options)\u001b[0m\n\u001b[1;32m    613\u001b[0m     \u001b[38;5;28;01melif\u001b[39;00m asset_name \u001b[38;5;129;01min\u001b[39;00m asset_names:\n\u001b[1;32m    614\u001b[0m         \u001b[38;5;28mself\u001b[39m\u001b[38;5;241m.\u001b[39mdelete_asset(name\u001b[38;5;241m=\u001b[39masset_name)\n\u001b[0;32m--> 616\u001b[0m \u001b[38;5;28;01mreturn\u001b[39;00m \u001b[38;5;28;43msuper\u001b[39;49m\u001b[43m(\u001b[49m\u001b[43m)\u001b[49m\u001b[38;5;241;43m.\u001b[39;49m\u001b[43m_add_asset\u001b[49m\u001b[43m(\u001b[49m\u001b[43masset\u001b[49m\u001b[38;5;241;43m=\u001b[39;49m\u001b[43masset\u001b[49m\u001b[43m,\u001b[49m\u001b[43m \u001b[49m\u001b[43mconnect_options\u001b[49m\u001b[38;5;241;43m=\u001b[39;49m\u001b[43mconnect_options\u001b[49m\u001b[43m)\u001b[49m\n",
      "File \u001b[0;32m~/.local/lib/python3.10/site-packages/great_expectations/datasource/fluent/interfaces.py:886\u001b[0m, in \u001b[0;36mDatasource._add_asset\u001b[0;34m(self, asset, connect_options)\u001b[0m\n\u001b[1;32m    884\u001b[0m asset_names: Set[\u001b[38;5;28mstr\u001b[39m] \u001b[38;5;241m=\u001b[39m \u001b[38;5;28mself\u001b[39m\u001b[38;5;241m.\u001b[39mget_asset_names()\n\u001b[1;32m    885\u001b[0m \u001b[38;5;28;01mif\u001b[39;00m asset\u001b[38;5;241m.\u001b[39mname \u001b[38;5;129;01min\u001b[39;00m asset_names:\n\u001b[0;32m--> 886\u001b[0m     \u001b[38;5;28;01mraise\u001b[39;00m \u001b[38;5;167;01mValueError\u001b[39;00m(  \u001b[38;5;66;03m# noqa: TRY003 # FIXME CoP\u001b[39;00m\n\u001b[1;32m    887\u001b[0m         \u001b[38;5;124mf\u001b[39m\u001b[38;5;124m'\u001b[39m\u001b[38;5;124m\"\u001b[39m\u001b[38;5;132;01m{\u001b[39;00masset\u001b[38;5;241m.\u001b[39mname\u001b[38;5;132;01m}\u001b[39;00m\u001b[38;5;124m\"\u001b[39m\u001b[38;5;124m already exists (all existing assets are \u001b[39m\u001b[38;5;132;01m{\u001b[39;00m\u001b[38;5;124m\"\u001b[39m\u001b[38;5;124m, \u001b[39m\u001b[38;5;124m\"\u001b[39m\u001b[38;5;241m.\u001b[39mjoin(asset_names)\u001b[38;5;132;01m}\u001b[39;00m\u001b[38;5;124m)\u001b[39m\u001b[38;5;124m'\u001b[39m\n\u001b[1;32m    888\u001b[0m     )\n\u001b[1;32m    890\u001b[0m \u001b[38;5;28mself\u001b[39m\u001b[38;5;241m.\u001b[39massets\u001b[38;5;241m.\u001b[39mappend(asset)\n\u001b[1;32m    892\u001b[0m \u001b[38;5;66;03m# if asset was added to a cloud FDS, _update_fluent_datasource will return FDS fetched from cloud,  # noqa: E501 # FIXME CoP\u001b[39;00m\n\u001b[1;32m    893\u001b[0m \u001b[38;5;66;03m# which will contain the new asset populated with an id\u001b[39;00m\n",
      "\u001b[0;31mValueError\u001b[0m: \"ecommerce_dat\" already exists (all existing assets are ecommerce_dat, ecommerce_datas)"
     ]
    }
   ],
   "source": [
    "data_source_name = \"local_filesystems\"\n",
    "data_asset_name = \"ecommerce_dat\"\n",
    "data_source = context.data_sources.get(data_source_name)\n",
    "file_csv_asset = data_source.add_csv_asset(data_asset_name)"
   ]
  },
  {
   "cell_type": "code",
   "execution_count": 7,
   "id": "5ffef889",
   "metadata": {},
   "outputs": [
    {
     "ename": "NameError",
     "evalue": "name 'file_data_asset' is not defined",
     "output_type": "error",
     "traceback": [
      "\u001b[0;31m---------------------------------------------------------------------------\u001b[0m",
      "\u001b[0;31mNameError\u001b[0m                                 Traceback (most recent call last)",
      "Cell \u001b[0;32mIn[7], line 4\u001b[0m\n\u001b[1;32m      1\u001b[0m batch_definition_name \u001b[38;5;241m=\u001b[39m \u001b[38;5;124m\"\u001b[39m\u001b[38;5;124mecommerce_data_batch\u001b[39m\u001b[38;5;124m\"\u001b[39m\n\u001b[1;32m      2\u001b[0m batch_definition_path \u001b[38;5;241m=\u001b[39m \u001b[38;5;124m\"\u001b[39m\u001b[38;5;124mdata.csv\u001b[39m\u001b[38;5;124m\"\u001b[39m\n\u001b[0;32m----> 4\u001b[0m batch_definition \u001b[38;5;241m=\u001b[39m \u001b[43mfile_data_asset\u001b[49m\u001b[38;5;241m.\u001b[39madd_batch_definition_path(\n\u001b[1;32m      5\u001b[0m     name\u001b[38;5;241m=\u001b[39mbatch_definition_name, path\u001b[38;5;241m=\u001b[39mbatch_definition_path\n\u001b[1;32m      6\u001b[0m )\n",
      "\u001b[0;31mNameError\u001b[0m: name 'file_data_asset' is not defined"
     ]
    }
   ],
   "source": [
    "batch_definition_name = \"ecommerce_data_batch\"\n",
    "batch_definition_path = \"data.csv\"\n",
    "\n",
    "batch_definition = file_data_asset.add_batch_definition_path(\n",
    "    name=batch_definition_name, path=batch_definition_path\n",
    ")"
   ]
  },
  {
   "cell_type": "code",
   "execution_count": null,
   "id": "e6345348",
   "metadata": {},
   "outputs": [],
   "source": [
    "batch = batch_definition.get_batch()\n",
    "print(batch.head())"
   ]
  }
 ],
 "metadata": {
  "kernelspec": {
   "display_name": "Python 3",
   "language": "python",
   "name": "python3"
  },
  "language_info": {
   "codemirror_mode": {
    "name": "ipython",
    "version": 3
   },
   "file_extension": ".py",
   "mimetype": "text/x-python",
   "name": "python",
   "nbconvert_exporter": "python",
   "pygments_lexer": "ipython3",
   "version": "3.10.12"
  }
 },
 "nbformat": 4,
 "nbformat_minor": 5
}
