{
  "nbformat": 4,
  "nbformat_minor": 0,
  "metadata": {
    "colab": {
      "provenance": []
    },
    "kernelspec": {
      "name": "python3",
      "display_name": "Python 3"
    },
    "language_info": {
      "name": "python"
    }
  },
  "cells": [
    {
      "cell_type": "code",
      "source": [
        "# Spark Session\n",
        "from pyspark.sql import SparkSession\n",
        "\n",
        "spark = (\n",
        "    SparkSession\n",
        "    .builder\n",
        "    .appName(\"User Defined Functions\")\n",
        "    # .master(\"spark://17e348267994:7077\")\n",
        "    # .config(\"spark.executor.cores\", 2)\n",
        "    # .config(\"spark.cores.max\", 6)\n",
        "    # .config(\"spark.executor.memory\", \"512M\")\n",
        "    .getOrCreate()\n",
        ")\n",
        "\n",
        "spark"
      ],
      "metadata": {
        "colab": {
          "base_uri": "https://localhost:8080/",
          "height": 222
        },
        "id": "GKxk6IrihWFG",
        "outputId": "33635d2f-5844-4f0b-cc33-a6a5fe7ad00d"
      },
      "execution_count": 3,
      "outputs": [
        {
          "output_type": "execute_result",
          "data": {
            "text/plain": [
              "<pyspark.sql.session.SparkSession at 0x7e969467f4d0>"
            ],
            "text/html": [
              "\n",
              "            <div>\n",
              "                <p><b>SparkSession - in-memory</b></p>\n",
              "                \n",
              "        <div>\n",
              "            <p><b>SparkContext</b></p>\n",
              "\n",
              "            <p><a href=\"http://22b79ce2510f:4040\">Spark UI</a></p>\n",
              "\n",
              "            <dl>\n",
              "              <dt>Version</dt>\n",
              "                <dd><code>v3.5.5</code></dd>\n",
              "              <dt>Master</dt>\n",
              "                <dd><code>local[*]</code></dd>\n",
              "              <dt>AppName</dt>\n",
              "                <dd><code>User Defined Functions</code></dd>\n",
              "            </dl>\n",
              "        </div>\n",
              "        \n",
              "            </div>\n",
              "        "
            ]
          },
          "metadata": {},
          "execution_count": 3
        }
      ]
    },
    {
      "cell_type": "code",
      "source": [
        "# Read employee data\n",
        "\n",
        "emp_schema = \"employee_id string, department_id string, name string, age string, gender string, salary string, hire_date string\"\n",
        "\n",
        "emp = spark.read.format(\"csv\").option(\"header\", True).schema(emp_schema).load(\"/data/output/3/emp.csv\")\n",
        "\n",
        "emp.rdd.getNumPartitions()"
      ],
      "metadata": {
        "id": "djCEy3URhaEM"
      },
      "execution_count": null,
      "outputs": []
    },
    {
      "cell_type": "code",
      "source": [
        "# Create a function to generate 10% of Salary as Bonus\n",
        "\n",
        "def bonus(salary):\n",
        "    return int(salary) * 0.1"
      ],
      "metadata": {
        "id": "oSb1btHrhnIg"
      },
      "execution_count": 2,
      "outputs": []
    },
    {
      "cell_type": "code",
      "source": [
        "# Register as UDF\n",
        "from pyspark.sql.functions import udf\n",
        "\n",
        "bonus_udf = udf(bonus)\n",
        "\n",
        "spark.udf.register(\"bonus_sql_udf\", bonus, \"double\")"
      ],
      "metadata": {
        "id": "q3KMx9BYhyTM"
      },
      "execution_count": null,
      "outputs": []
    },
    {
      "cell_type": "code",
      "source": [
        "# Register as UDF\n",
        "from pyspark.sql.functions import udf\n",
        "\n",
        "bonus_udf = udf(bonus)\n",
        "\n",
        "spark.udf.register(\"bonus_sql_udf\", bonus, \"double\")"
      ],
      "metadata": {
        "colab": {
          "base_uri": "https://localhost:8080/",
          "height": 219
        },
        "id": "ZsoWiA4vh3yf",
        "outputId": "7afd7f49-0914-47a0-d3b2-bcc33ce2ba06"
      },
      "execution_count": 1,
      "outputs": [
        {
          "output_type": "error",
          "ename": "NameError",
          "evalue": "name 'bonus' is not defined",
          "traceback": [
            "\u001b[0;31m---------------------------------------------------------------------------\u001b[0m",
            "\u001b[0;31mNameError\u001b[0m                                 Traceback (most recent call last)",
            "\u001b[0;32m<ipython-input-1-dffaf481484a>\u001b[0m in \u001b[0;36m<cell line: 0>\u001b[0;34m()\u001b[0m\n\u001b[1;32m      2\u001b[0m \u001b[0;32mfrom\u001b[0m \u001b[0mpyspark\u001b[0m\u001b[0;34m.\u001b[0m\u001b[0msql\u001b[0m\u001b[0;34m.\u001b[0m\u001b[0mfunctions\u001b[0m \u001b[0;32mimport\u001b[0m \u001b[0mudf\u001b[0m\u001b[0;34m\u001b[0m\u001b[0;34m\u001b[0m\u001b[0m\n\u001b[1;32m      3\u001b[0m \u001b[0;34m\u001b[0m\u001b[0m\n\u001b[0;32m----> 4\u001b[0;31m \u001b[0mbonus_udf\u001b[0m \u001b[0;34m=\u001b[0m \u001b[0mudf\u001b[0m\u001b[0;34m(\u001b[0m\u001b[0mbonus\u001b[0m\u001b[0;34m)\u001b[0m\u001b[0;34m\u001b[0m\u001b[0;34m\u001b[0m\u001b[0m\n\u001b[0m\u001b[1;32m      5\u001b[0m \u001b[0;34m\u001b[0m\u001b[0m\n\u001b[1;32m      6\u001b[0m \u001b[0mspark\u001b[0m\u001b[0;34m.\u001b[0m\u001b[0mudf\u001b[0m\u001b[0;34m.\u001b[0m\u001b[0mregister\u001b[0m\u001b[0;34m(\u001b[0m\u001b[0;34m\"bonus_sql_udf\"\u001b[0m\u001b[0;34m,\u001b[0m \u001b[0mbonus\u001b[0m\u001b[0;34m,\u001b[0m \u001b[0;34m\"double\"\u001b[0m\u001b[0;34m)\u001b[0m\u001b[0;34m\u001b[0m\u001b[0;34m\u001b[0m\u001b[0m\n",
            "\u001b[0;31mNameError\u001b[0m: name 'bonus' is not defined"
          ]
        }
      ]
    },
    {
      "cell_type": "code",
      "source": [
        "# Create new column as bonus using UDF\n",
        "from pyspark.sql.functions import expr\n",
        "\n",
        "emp.withColumn(\"bonus\", expr(\"bonus_sql_udf(salary)\")).show()"
      ],
      "metadata": {
        "id": "PZZQJ0jVh4Ju"
      },
      "execution_count": null,
      "outputs": []
    },
    {
      "cell_type": "code",
      "execution_count": null,
      "metadata": {
        "id": "LHKPFMDuyXgL"
      },
      "outputs": [],
      "source": [
        "@udf(returnType=StringType())\n",
        "def first_name(x):\n",
        "  return x.split(' ')[0]"
      ]
    },
    {
      "cell_type": "code",
      "source": [
        "class py_or_udf:\n",
        "  def __init__(self, returnType: DataType = StringType):\n",
        "    self.spark_udf_type = returnType\n",
        "\n",
        "  def __call__(self, func: callable):\n",
        "    def wrapped_func(*args, **kwargs):\n",
        "      if(any)"
      ],
      "metadata": {
        "id": "KZ8kYkcFy8Bg"
      },
      "execution_count": null,
      "outputs": []
    }
  ]
}