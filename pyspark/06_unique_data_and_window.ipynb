{
  "nbformat": 4,
  "nbformat_minor": 0,
  "metadata": {
    "colab": {
      "provenance": []
    },
    "kernelspec": {
      "name": "python3",
      "display_name": "Python 3"
    },
    "language_info": {
      "name": "python"
    }
  },
  "cells": [
    {
      "cell_type": "code",
      "source": [
        "pip install pyspark"
      ],
      "metadata": {
        "colab": {
          "base_uri": "https://localhost:8080/"
        },
        "id": "Rgz6YwyHYllc",
        "outputId": "1f3693a3-d8c1-4883-c671-6c26f1505478"
      },
      "execution_count": null,
      "outputs": [
        {
          "output_type": "stream",
          "name": "stdout",
          "text": [
            "Requirement already satisfied: pyspark in /usr/local/lib/python3.11/dist-packages (3.5.5)\n",
            "Requirement already satisfied: py4j==0.10.9.7 in /usr/local/lib/python3.11/dist-packages (from pyspark) (0.10.9.7)\n"
          ]
        }
      ]
    },
    {
      "cell_type": "code",
      "source": [
        "# Spark Session\n",
        "from pyspark.sql import SparkSession\n",
        "\n",
        "spark = (\n",
        "    SparkSession\n",
        "    .builder\n",
        "    .appName(\"Unique data & Window Functions\")\n",
        "    .master(\"local[*]\")\n",
        "    .getOrCreate()\n",
        ")\n",
        "\n",
        "spark"
      ],
      "metadata": {
        "colab": {
          "base_uri": "https://localhost:8080/",
          "height": 222
        },
        "id": "CijxMrvKYo98",
        "outputId": "d7abb0f6-81a5-41a9-9974-463b9cb1a372"
      },
      "execution_count": null,
      "outputs": [
        {
          "output_type": "execute_result",
          "data": {
            "text/plain": [
              "<pyspark.sql.session.SparkSession at 0x78dafd9d9d50>"
            ],
            "text/html": [
              "\n",
              "            <div>\n",
              "                <p><b>SparkSession - in-memory</b></p>\n",
              "                \n",
              "        <div>\n",
              "            <p><b>SparkContext</b></p>\n",
              "\n",
              "            <p><a href=\"http://d096fb1232c5:4040\">Spark UI</a></p>\n",
              "\n",
              "            <dl>\n",
              "              <dt>Version</dt>\n",
              "                <dd><code>v3.5.5</code></dd>\n",
              "              <dt>Master</dt>\n",
              "                <dd><code>local[*]</code></dd>\n",
              "              <dt>AppName</dt>\n",
              "                <dd><code>Unique data & Window Functions</code></dd>\n",
              "            </dl>\n",
              "        </div>\n",
              "        \n",
              "            </div>\n",
              "        "
            ]
          },
          "metadata": {},
          "execution_count": 2
        }
      ]
    },
    {
      "cell_type": "code",
      "execution_count": null,
      "metadata": {
        "id": "npOLtmI7Wjyi"
      },
      "outputs": [],
      "source": [
        "# Emp Data & Schema\n",
        "\n",
        "emp_data = [\n",
        "    [\"001\",\"101\",\"John Doe\",\"30\",\"Male\",\"50000\",\"2015-01-01\"],\n",
        "    [\"002\",\"101\",\"Jane Smith\",\"25\",\"Female\",\"45000\",\"2016-02-15\"],\n",
        "    [\"003\",\"102\",\"Bob Brown\",\"35\",\"Male\",\"55000\",\"2014-05-01\"],\n",
        "    [\"004\",\"102\",\"Alice Lee\",\"28\",\"Female\",\"48000\",\"2017-09-30\"],\n",
        "    [\"005\",\"103\",\"Jack Chan\",\"40\",\"Male\",\"60000\",\"2013-04-01\"],\n",
        "    [\"006\",\"103\",\"Jill Wong\",\"32\",\"Female\",\"52000\",\"2018-07-01\"],\n",
        "    [\"007\",\"101\",\"James Johnson\",\"42\",\"Male\",\"70000\",\"2012-03-15\"],\n",
        "    [\"008\",\"102\",\"Kate Kim\",\"29\",\"Female\",\"51000\",\"2019-10-01\"],\n",
        "    [\"009\",\"103\",\"Tom Tan\",\"33\",\"Male\",\"58000\",\"2016-06-01\"],\n",
        "    [\"010\",\"104\",\"Lisa Lee\",\"27\",\"Female\",\"47000\",\"2018-08-01\"],\n",
        "    [\"011\",\"104\",\"David Park\",\"38\",\"Male\",\"65000\",\"2015-11-01\"],\n",
        "    [\"012\",\"105\",\"Susan Chen\",\"31\",\"Female\",\"54000\",\"2017-02-15\"],\n",
        "    [\"013\",\"106\",\"Brian Kim\",\"45\",\"Male\",\"75000\",\"2011-07-01\"],\n",
        "    [\"014\",\"107\",\"Emily Lee\",\"26\",\"Female\",\"46000\",\"2019-01-01\"],\n",
        "    [\"015\",\"106\",\"Michael Lee\",\"37\",\"Male\",\"63000\",\"2014-09-30\"],\n",
        "    [\"016\",\"107\",\"Kelly Zhang\",\"30\",\"Female\",\"49000\",\"2018-04-01\"],\n",
        "    [\"017\",\"105\",\"George Wang\",\"34\",\"Male\",\"57000\",\"2016-03-15\"],\n",
        "    [\"018\",\"104\",\"Nancy Liu\",\"29\",\"\",\"50000\",\"2017-06-01\"],\n",
        "    [\"019\",\"103\",\"Steven Chen\",\"36\",\"Male\",\"62000\",\"2015-08-01\"],\n",
        "    [\"020\",\"102\",\"Grace Kim\",\"32\",\"Female\",\"53000\",\"2018-11-01\"]\n",
        "]\n",
        "\n",
        "emp_schema = \"employee_id string, department_id string, name string, age string, gender string, salary string, hire_date string\""
      ]
    },
    {
      "cell_type": "code",
      "source": [
        "# Create a dataframe\n",
        "\n",
        "emp = spark.createDataFrame(data = emp_data, schema=emp_schema)"
      ],
      "metadata": {
        "id": "24VV7q21Ytvg"
      },
      "execution_count": null,
      "outputs": []
    },
    {
      "cell_type": "code",
      "source": [
        "emp.show()"
      ],
      "metadata": {
        "colab": {
          "base_uri": "https://localhost:8080/"
        },
        "id": "x2UeSFybY6iM",
        "outputId": "d636d17e-4e22-4a89-c546-fff6b2241497"
      },
      "execution_count": null,
      "outputs": [
        {
          "output_type": "stream",
          "name": "stdout",
          "text": [
            "+-----------+-------------+-------------+---+------+------+----------+\n",
            "|employee_id|department_id|         name|age|gender|salary| hire_date|\n",
            "+-----------+-------------+-------------+---+------+------+----------+\n",
            "|        001|          101|     John Doe| 30|  Male| 50000|2015-01-01|\n",
            "|        002|          101|   Jane Smith| 25|Female| 45000|2016-02-15|\n",
            "|        003|          102|    Bob Brown| 35|  Male| 55000|2014-05-01|\n",
            "|        004|          102|    Alice Lee| 28|Female| 48000|2017-09-30|\n",
            "|        005|          103|    Jack Chan| 40|  Male| 60000|2013-04-01|\n",
            "|        006|          103|    Jill Wong| 32|Female| 52000|2018-07-01|\n",
            "|        007|          101|James Johnson| 42|  Male| 70000|2012-03-15|\n",
            "|        008|          102|     Kate Kim| 29|Female| 51000|2019-10-01|\n",
            "|        009|          103|      Tom Tan| 33|  Male| 58000|2016-06-01|\n",
            "|        010|          104|     Lisa Lee| 27|Female| 47000|2018-08-01|\n",
            "|        011|          104|   David Park| 38|  Male| 65000|2015-11-01|\n",
            "|        012|          105|   Susan Chen| 31|Female| 54000|2017-02-15|\n",
            "|        013|          106|    Brian Kim| 45|  Male| 75000|2011-07-01|\n",
            "|        014|          107|    Emily Lee| 26|Female| 46000|2019-01-01|\n",
            "|        015|          106|  Michael Lee| 37|  Male| 63000|2014-09-30|\n",
            "|        016|          107|  Kelly Zhang| 30|Female| 49000|2018-04-01|\n",
            "|        017|          105|  George Wang| 34|  Male| 57000|2016-03-15|\n",
            "|        018|          104|    Nancy Liu| 29|      | 50000|2017-06-01|\n",
            "|        019|          103|  Steven Chen| 36|  Male| 62000|2015-08-01|\n",
            "|        020|          102|    Grace Kim| 32|Female| 53000|2018-11-01|\n",
            "+-----------+-------------+-------------+---+------+------+----------+\n",
            "\n"
          ]
        }
      ]
    },
    {
      "cell_type": "code",
      "source": [
        "emp.printSchema()"
      ],
      "metadata": {
        "colab": {
          "base_uri": "https://localhost:8080/"
        },
        "id": "O1L1vzNeY8kq",
        "outputId": "1c4d9ae1-43c6-4a7f-e3cf-599027a2187c"
      },
      "execution_count": null,
      "outputs": [
        {
          "output_type": "stream",
          "name": "stdout",
          "text": [
            "root\n",
            " |-- employee_id: string (nullable = true)\n",
            " |-- department_id: string (nullable = true)\n",
            " |-- name: string (nullable = true)\n",
            " |-- age: string (nullable = true)\n",
            " |-- gender: string (nullable = true)\n",
            " |-- salary: string (nullable = true)\n",
            " |-- hire_date: string (nullable = true)\n",
            "\n"
          ]
        }
      ]
    },
    {
      "cell_type": "code",
      "source": [
        "# Get unique data\n",
        "# select distinct emp.* from emp\n",
        "emp_unique = emp.distinct()"
      ],
      "metadata": {
        "id": "nGGNpeJAY9Zg"
      },
      "execution_count": null,
      "outputs": []
    },
    {
      "cell_type": "code",
      "source": [
        "emp_unique.show()"
      ],
      "metadata": {
        "colab": {
          "base_uri": "https://localhost:8080/"
        },
        "id": "Sv3DD0OPZBDp",
        "outputId": "fa10a668-e408-4ceb-bf76-6a4e0b35db26"
      },
      "execution_count": null,
      "outputs": [
        {
          "output_type": "stream",
          "name": "stdout",
          "text": [
            "+-----------+-------------+-------------+---+------+------+----------+\n",
            "|employee_id|department_id|         name|age|gender|salary| hire_date|\n",
            "+-----------+-------------+-------------+---+------+------+----------+\n",
            "|        007|          101|James Johnson| 42|  Male| 70000|2012-03-15|\n",
            "|        003|          102|    Bob Brown| 35|  Male| 55000|2014-05-01|\n",
            "|        001|          101|     John Doe| 30|  Male| 50000|2015-01-01|\n",
            "|        005|          103|    Jack Chan| 40|  Male| 60000|2013-04-01|\n",
            "|        010|          104|     Lisa Lee| 27|Female| 47000|2018-08-01|\n",
            "|        009|          103|      Tom Tan| 33|  Male| 58000|2016-06-01|\n",
            "|        004|          102|    Alice Lee| 28|Female| 48000|2017-09-30|\n",
            "|        008|          102|     Kate Kim| 29|Female| 51000|2019-10-01|\n",
            "|        006|          103|    Jill Wong| 32|Female| 52000|2018-07-01|\n",
            "|        002|          101|   Jane Smith| 25|Female| 45000|2016-02-15|\n",
            "|        015|          106|  Michael Lee| 37|  Male| 63000|2014-09-30|\n",
            "|        012|          105|   Susan Chen| 31|Female| 54000|2017-02-15|\n",
            "|        016|          107|  Kelly Zhang| 30|Female| 49000|2018-04-01|\n",
            "|        019|          103|  Steven Chen| 36|  Male| 62000|2015-08-01|\n",
            "|        011|          104|   David Park| 38|  Male| 65000|2015-11-01|\n",
            "|        014|          107|    Emily Lee| 26|Female| 46000|2019-01-01|\n",
            "|        017|          105|  George Wang| 34|  Male| 57000|2016-03-15|\n",
            "|        018|          104|    Nancy Liu| 29|      | 50000|2017-06-01|\n",
            "|        020|          102|    Grace Kim| 32|Female| 53000|2018-11-01|\n",
            "|        013|          106|    Brian Kim| 45|  Male| 75000|2011-07-01|\n",
            "+-----------+-------------+-------------+---+------+------+----------+\n",
            "\n"
          ]
        }
      ]
    },
    {
      "cell_type": "code",
      "source": [
        "# Unique of department_ids\n",
        "# select distinct department_id from emp\n",
        "emp_dept_id = emp.select(\"department_id\").distinct()"
      ],
      "metadata": {
        "id": "GqVRvDUTZHAN"
      },
      "execution_count": null,
      "outputs": []
    },
    {
      "cell_type": "code",
      "source": [
        "emp_dept_id.show()"
      ],
      "metadata": {
        "colab": {
          "base_uri": "https://localhost:8080/"
        },
        "id": "Yq8yuBpXZRq1",
        "outputId": "c1170cbe-c0ab-443e-d777-2573525622cd"
      },
      "execution_count": null,
      "outputs": [
        {
          "output_type": "stream",
          "name": "stdout",
          "text": [
            "+-------------+\n",
            "|department_id|\n",
            "+-------------+\n",
            "|          101|\n",
            "|          104|\n",
            "|          102|\n",
            "|          103|\n",
            "|          107|\n",
            "|          106|\n",
            "|          105|\n",
            "+-------------+\n",
            "\n"
          ]
        }
      ]
    },
    {
      "cell_type": "code",
      "source": [
        "# Window Functions\n",
        "# select *, max(salary) over(partition by department_id order by salary desc) as max_salary from emp_unique\n",
        "\n",
        "from pyspark.sql.window import Window\n",
        "from pyspark.sql.functions import max, col, desc\n",
        "\n",
        "window_spec = Window.partitionBy(col(\"department_id\")).orderBy(col(\"salary\").desc())\n",
        "max_func = max(col(\"salary\")).over(window_spec)\n",
        "\n",
        "emp_1 = emp.withColumn(\"max_salary\", max_func)"
      ],
      "metadata": {
        "id": "LM-q-3nuZXKs"
      },
      "execution_count": null,
      "outputs": []
    },
    {
      "cell_type": "code",
      "source": [
        "emp_1.show()"
      ],
      "metadata": {
        "id": "gDpPdBbVbjGi",
        "outputId": "f42b6bc0-b9b9-457c-9857-3c1fd1b1c49f",
        "colab": {
          "base_uri": "https://localhost:8080/"
        }
      },
      "execution_count": null,
      "outputs": [
        {
          "output_type": "stream",
          "name": "stdout",
          "text": [
            "+-----------+-------------+-------------+---+------+------+----------+----------+\n",
            "|employee_id|department_id|         name|age|gender|salary| hire_date|max_salary|\n",
            "+-----------+-------------+-------------+---+------+------+----------+----------+\n",
            "|        007|          101|James Johnson| 42|  Male| 70000|2012-03-15|     70000|\n",
            "|        001|          101|     John Doe| 30|  Male| 50000|2015-01-01|     70000|\n",
            "|        002|          101|   Jane Smith| 25|Female| 45000|2016-02-15|     70000|\n",
            "|        003|          102|    Bob Brown| 35|  Male| 55000|2014-05-01|     55000|\n",
            "|        020|          102|    Grace Kim| 32|Female| 53000|2018-11-01|     55000|\n",
            "|        008|          102|     Kate Kim| 29|Female| 51000|2019-10-01|     55000|\n",
            "|        004|          102|    Alice Lee| 28|Female| 48000|2017-09-30|     55000|\n",
            "|        019|          103|  Steven Chen| 36|  Male| 62000|2015-08-01|     62000|\n",
            "|        005|          103|    Jack Chan| 40|  Male| 60000|2013-04-01|     62000|\n",
            "|        009|          103|      Tom Tan| 33|  Male| 58000|2016-06-01|     62000|\n",
            "|        006|          103|    Jill Wong| 32|Female| 52000|2018-07-01|     62000|\n",
            "|        011|          104|   David Park| 38|  Male| 65000|2015-11-01|     65000|\n",
            "|        018|          104|    Nancy Liu| 29|      | 50000|2017-06-01|     65000|\n",
            "|        010|          104|     Lisa Lee| 27|Female| 47000|2018-08-01|     65000|\n",
            "|        017|          105|  George Wang| 34|  Male| 57000|2016-03-15|     57000|\n",
            "|        012|          105|   Susan Chen| 31|Female| 54000|2017-02-15|     57000|\n",
            "|        013|          106|    Brian Kim| 45|  Male| 75000|2011-07-01|     75000|\n",
            "|        015|          106|  Michael Lee| 37|  Male| 63000|2014-09-30|     75000|\n",
            "|        016|          107|  Kelly Zhang| 30|Female| 49000|2018-04-01|     49000|\n",
            "|        014|          107|    Emily Lee| 26|Female| 46000|2019-01-01|     49000|\n",
            "+-----------+-------------+-------------+---+------+------+----------+----------+\n",
            "\n"
          ]
        }
      ]
    },
    {
      "cell_type": "code",
      "source": [
        "# Window function using expr\n",
        "# select *, row_number() over(partition by department_id order by salary desc) as rn from emp_unique where rn = 2\n",
        "from pyspark.sql.functions import expr\n",
        "\n",
        "emp_3 = emp.withColumn(\"rn\", expr(\"row_number() over(partition by department_id order by salary desc)\")).where(\"rn = 2\")"
      ],
      "metadata": {
        "id": "hdWH-92o_3eJ"
      },
      "execution_count": null,
      "outputs": []
    },
    {
      "cell_type": "code",
      "source": [
        "emp_3.show()"
      ],
      "metadata": {
        "id": "M2BvvtCUAf2k",
        "outputId": "40e1fc5b-4362-47bc-8aa7-8445ad9af2bc",
        "colab": {
          "base_uri": "https://localhost:8080/"
        }
      },
      "execution_count": null,
      "outputs": [
        {
          "output_type": "stream",
          "name": "stdout",
          "text": [
            "+-----------+-------------+-----------+---+------+------+----------+---+\n",
            "|employee_id|department_id|       name|age|gender|salary| hire_date| rn|\n",
            "+-----------+-------------+-----------+---+------+------+----------+---+\n",
            "|        001|          101|   John Doe| 30|  Male| 50000|2015-01-01|  2|\n",
            "|        020|          102|  Grace Kim| 32|Female| 53000|2018-11-01|  2|\n",
            "|        005|          103|  Jack Chan| 40|  Male| 60000|2013-04-01|  2|\n",
            "|        018|          104|  Nancy Liu| 29|      | 50000|2017-06-01|  2|\n",
            "|        012|          105| Susan Chen| 31|Female| 54000|2017-02-15|  2|\n",
            "|        015|          106|Michael Lee| 37|  Male| 63000|2014-09-30|  2|\n",
            "|        014|          107|  Emily Lee| 26|Female| 46000|2019-01-01|  2|\n",
            "+-----------+-------------+-----------+---+------+------+----------+---+\n",
            "\n"
          ]
        }
      ]
    }
  ]
}