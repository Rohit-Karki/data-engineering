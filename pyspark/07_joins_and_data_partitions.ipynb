{
  "nbformat": 4,
  "nbformat_minor": 0,
  "metadata": {
    "colab": {
      "provenance": []
    },
    "kernelspec": {
      "name": "python3",
      "display_name": "Python 3"
    },
    "language_info": {
      "name": "python"
    }
  },
  "cells": [
    {
      "cell_type": "markdown",
      "source": [],
      "metadata": {
        "id": "yYlqev7NBsGi"
      }
    },
    {
      "cell_type": "code",
      "execution_count": null,
      "metadata": {
        "colab": {
          "base_uri": "https://localhost:8080/",
          "height": 222
        },
        "id": "Ded0iURPBgK0",
        "outputId": "1c55e7f4-f960-4a2d-aa1e-bc5b941e69d6"
      },
      "outputs": [
        {
          "output_type": "execute_result",
          "data": {
            "text/plain": [
              "<pyspark.sql.session.SparkSession at 0x7d5472e227d0>"
            ],
            "text/html": [
              "\n",
              "            <div>\n",
              "                <p><b>SparkSession - in-memory</b></p>\n",
              "                \n",
              "        <div>\n",
              "            <p><b>SparkContext</b></p>\n",
              "\n",
              "            <p><a href=\"http://59501d25615c:4040\">Spark UI</a></p>\n",
              "\n",
              "            <dl>\n",
              "              <dt>Version</dt>\n",
              "                <dd><code>v3.5.5</code></dd>\n",
              "              <dt>Master</dt>\n",
              "                <dd><code>local[*]</code></dd>\n",
              "              <dt>AppName</dt>\n",
              "                <dd><code>Joins and Data Partitions</code></dd>\n",
              "            </dl>\n",
              "        </div>\n",
              "        \n",
              "            </div>\n",
              "        "
            ]
          },
          "metadata": {},
          "execution_count": 1
        }
      ],
      "source": [
        "# Spark Session\n",
        "from pyspark.sql import SparkSession\n",
        "\n",
        "spark = (\n",
        "    SparkSession\n",
        "    .builder\n",
        "    .appName(\"Joins and Data Partitions\")\n",
        "    .master(\"local[*]\")\n",
        "    .getOrCreate()\n",
        ")\n",
        "\n",
        "spark"
      ]
    },
    {
      "cell_type": "code",
      "source": [
        "emp_data = [\n",
        "    [\"001\",\"101\",\"John Doe\",\"30\",\"Male\",\"50000\",\"2015-01-01\"],\n",
        "    [\"002\",\"101\",\"Jane Smith\",\"25\",\"Female\",\"45000\",\"2016-02-15\"],\n",
        "    [\"003\",\"102\",\"Bob Brown\",\"35\",\"Male\",\"55000\",\"2014-05-01\"],\n",
        "    [\"004\",\"102\",\"Alice Lee\",\"28\",\"Female\",\"48000\",\"2017-09-30\"],\n",
        "    [\"005\",\"103\",\"Jack Chan\",\"40\",\"Male\",\"60000\",\"2013-04-01\"],\n",
        "    [\"006\",\"103\",\"Jill Wong\",\"32\",\"Female\",\"52000\",\"2018-07-01\"],\n",
        "    [\"007\",\"101\",\"James Johnson\",\"42\",\"Male\",\"70000\",\"2012-03-15\"],\n",
        "    [\"008\",\"102\",\"Kate Kim\",\"29\",\"Female\",\"51000\",\"2019-10-01\"],\n",
        "    [\"009\",\"103\",\"Tom Tan\",\"33\",\"Male\",\"58000\",\"2016-06-01\"],\n",
        "    [\"010\",\"104\",\"Lisa Lee\",\"27\",\"Female\",\"47000\",\"2018-08-01\"],\n",
        "    [\"011\",\"104\",\"David Park\",\"38\",\"Male\",\"65000\",\"2015-11-01\"],\n",
        "    [\"012\",\"105\",\"Susan Chen\",\"31\",\"Female\",\"54000\",\"2017-02-15\"],\n",
        "    [\"013\",\"106\",\"Brian Kim\",\"45\",\"Male\",\"75000\",\"2011-07-01\"],\n",
        "    [\"014\",\"107\",\"Emily Lee\",\"26\",\"Female\",\"46000\",\"2019-01-01\"],\n",
        "    [\"015\",\"106\",\"Michael Lee\",\"37\",\"Male\",\"63000\",\"2014-09-30\"],\n",
        "    [\"016\",\"107\",\"Kelly Zhang\",\"30\",\"Female\",\"49000\",\"2018-04-01\"],\n",
        "    [\"017\",\"105\",\"George Wang\",\"34\",\"Male\",\"57000\",\"2016-03-15\"],\n",
        "    [\"018\",\"104\",\"Nancy Liu\",\"29\",\"\",\"50000\",\"2017-06-01\"],\n",
        "    [\"019\",\"103\",\"Steven Chen\",\"36\",\"Male\",\"62000\",\"2015-08-01\"],\n",
        "    [\"020\",\"102\",\"Grace Kim\",\"32\",\"Female\",\"53000\",\"2018-11-01\"]\n",
        "]\n",
        "\n",
        "emp_schema = \"employee_id string, department_id string, name string, age string, gender string, salary string, hire_date string\"\n",
        "\n",
        "dept_data = [\n",
        "    [\"101\", \"Sales\", \"NYC\", \"US\", \"1000000\"],\n",
        "    [\"102\", \"Marketing\", \"LA\", \"US\", \"900000\"],\n",
        "    [\"103\", \"Finance\", \"London\", \"UK\", \"1200000\"],\n",
        "    [\"104\", \"Engineering\", \"Beijing\", \"China\", \"1500000\"],\n",
        "    [\"105\", \"Human Resources\", \"Tokyo\", \"Japan\", \"800000\"],\n",
        "    [\"106\", \"Research and Development\", \"Perth\", \"Australia\", \"1100000\"],\n",
        "    [\"107\", \"Customer Service\", \"Sydney\", \"Australia\", \"950000\"]\n",
        "]\n",
        "\n",
        "dept_schema = \"department_id string, department_name string, city string, country string, budget string\""
      ],
      "metadata": {
        "id": "HlavmA9VBtPF"
      },
      "execution_count": null,
      "outputs": []
    },
    {
      "cell_type": "code",
      "source": [
        "# Create emp & dept DataFrame\n",
        "\n",
        "emp = spark.createDataFrame(data=emp_data, schema=emp_schema)\n",
        "dept = spark.createDataFrame(data=dept_data, schema=dept_schema)"
      ],
      "metadata": {
        "id": "HI2wUezlBz9s"
      },
      "execution_count": null,
      "outputs": []
    },
    {
      "cell_type": "code",
      "source": [
        "# Show emp dataframe (ACTION)\n",
        "\n",
        "emp.show()\n",
        "dept.show()"
      ],
      "metadata": {
        "colab": {
          "base_uri": "https://localhost:8080/"
        },
        "id": "PUVqbIuyB7sr",
        "outputId": "4383df74-ec97-4e9e-8f12-d231de89205c"
      },
      "execution_count": null,
      "outputs": [
        {
          "output_type": "stream",
          "name": "stdout",
          "text": [
            "+-----------+-------------+-------------+---+------+------+----------+\n",
            "|employee_id|department_id|         name|age|gender|salary| hire_date|\n",
            "+-----------+-------------+-------------+---+------+------+----------+\n",
            "|        001|          101|     John Doe| 30|  Male| 50000|2015-01-01|\n",
            "|        002|          101|   Jane Smith| 25|Female| 45000|2016-02-15|\n",
            "|        003|          102|    Bob Brown| 35|  Male| 55000|2014-05-01|\n",
            "|        004|          102|    Alice Lee| 28|Female| 48000|2017-09-30|\n",
            "|        005|          103|    Jack Chan| 40|  Male| 60000|2013-04-01|\n",
            "|        006|          103|    Jill Wong| 32|Female| 52000|2018-07-01|\n",
            "|        007|          101|James Johnson| 42|  Male| 70000|2012-03-15|\n",
            "|        008|          102|     Kate Kim| 29|Female| 51000|2019-10-01|\n",
            "|        009|          103|      Tom Tan| 33|  Male| 58000|2016-06-01|\n",
            "|        010|          104|     Lisa Lee| 27|Female| 47000|2018-08-01|\n",
            "|        011|          104|   David Park| 38|  Male| 65000|2015-11-01|\n",
            "|        012|          105|   Susan Chen| 31|Female| 54000|2017-02-15|\n",
            "|        013|          106|    Brian Kim| 45|  Male| 75000|2011-07-01|\n",
            "|        014|          107|    Emily Lee| 26|Female| 46000|2019-01-01|\n",
            "|        015|          106|  Michael Lee| 37|  Male| 63000|2014-09-30|\n",
            "|        016|          107|  Kelly Zhang| 30|Female| 49000|2018-04-01|\n",
            "|        017|          105|  George Wang| 34|  Male| 57000|2016-03-15|\n",
            "|        018|          104|    Nancy Liu| 29|      | 50000|2017-06-01|\n",
            "|        019|          103|  Steven Chen| 36|  Male| 62000|2015-08-01|\n",
            "|        020|          102|    Grace Kim| 32|Female| 53000|2018-11-01|\n",
            "+-----------+-------------+-------------+---+------+------+----------+\n",
            "\n",
            "+-------------+--------------------+-------+---------+-------+\n",
            "|department_id|     department_name|   city|  country| budget|\n",
            "+-------------+--------------------+-------+---------+-------+\n",
            "|          101|               Sales|    NYC|       US|1000000|\n",
            "|          102|           Marketing|     LA|       US| 900000|\n",
            "|          103|             Finance| London|       UK|1200000|\n",
            "|          104|         Engineering|Beijing|    China|1500000|\n",
            "|          105|     Human Resources|  Tokyo|    Japan| 800000|\n",
            "|          106|Research and Deve...|  Perth|Australia|1100000|\n",
            "|          107|    Customer Service| Sydney|Australia| 950000|\n",
            "+-------------+--------------------+-------+---------+-------+\n",
            "\n"
          ]
        }
      ]
    },
    {
      "cell_type": "code",
      "source": [
        "# Print Schema\n",
        "\n",
        "emp.printSchema()\n",
        "dept.printSchema()"
      ],
      "metadata": {
        "colab": {
          "base_uri": "https://localhost:8080/"
        },
        "id": "452Wejt1B8Nn",
        "outputId": "ee208030-06c4-418f-966d-6deb357f02c6"
      },
      "execution_count": null,
      "outputs": [
        {
          "output_type": "stream",
          "name": "stdout",
          "text": [
            "root\n",
            " |-- employee_id: string (nullable = true)\n",
            " |-- department_id: string (nullable = true)\n",
            " |-- name: string (nullable = true)\n",
            " |-- age: string (nullable = true)\n",
            " |-- gender: string (nullable = true)\n",
            " |-- salary: string (nullable = true)\n",
            " |-- hire_date: string (nullable = true)\n",
            "\n",
            "root\n",
            " |-- department_id: string (nullable = true)\n",
            " |-- department_name: string (nullable = true)\n",
            " |-- city: string (nullable = true)\n",
            " |-- country: string (nullable = true)\n",
            " |-- budget: string (nullable = true)\n",
            "\n"
          ]
        }
      ]
    },
    {
      "cell_type": "code",
      "source": [
        "# Get number of partitions for emp\n",
        "emp.rdd.getNumPartitions()"
      ],
      "metadata": {
        "colab": {
          "base_uri": "https://localhost:8080/"
        },
        "id": "1IEuiDd5B-vV",
        "outputId": "a2c59349-b84c-4509-c15b-001e6c8c7a48"
      },
      "execution_count": null,
      "outputs": [
        {
          "output_type": "execute_result",
          "data": {
            "text/plain": [
              "2"
            ]
          },
          "metadata": {},
          "execution_count": 7
        }
      ]
    },
    {
      "cell_type": "code",
      "source": [
        "# Get number of partitions for dept\n",
        "dept.rdd.getNumPartitions()"
      ],
      "metadata": {
        "colab": {
          "base_uri": "https://localhost:8080/"
        },
        "id": "JWz6J6VSCBDb",
        "outputId": "4b9ba6bd-4e18-40a2-c3d5-1b61cf11e0f7"
      },
      "execution_count": null,
      "outputs": [
        {
          "output_type": "execute_result",
          "data": {
            "text/plain": [
              "2"
            ]
          },
          "metadata": {},
          "execution_count": 8
        }
      ]
    },
    {
      "cell_type": "code",
      "source": [
        "# Repartition of data using repartition & coalesce\n",
        "emp_partitioned = emp.repartition(4, \"department_id\")"
      ],
      "metadata": {
        "id": "OLKlSHbWCEMd"
      },
      "execution_count": null,
      "outputs": []
    },
    {
      "cell_type": "code",
      "source": [
        "emp_partitioned.rdd.getNumPartitions()"
      ],
      "metadata": {
        "colab": {
          "base_uri": "https://localhost:8080/"
        },
        "id": "LVVd3YM5CJ9y",
        "outputId": "d67ac343-46de-4a7f-f4c0-7e95472ac87a"
      },
      "execution_count": null,
      "outputs": [
        {
          "output_type": "execute_result",
          "data": {
            "text/plain": [
              "4"
            ]
          },
          "metadata": {},
          "execution_count": 11
        }
      ]
    },
    {
      "cell_type": "code",
      "source": [
        "# Find the partition info for partitions and reparition\n",
        "from pyspark.sql.functions import spark_partition_id\n",
        "\n",
        "emp_1 = emp.repartition(4, \"department_id\").withColumn(\"partition_num\", spark_partition_id())"
      ],
      "metadata": {
        "id": "YhCxCFUTCMT1"
      },
      "execution_count": null,
      "outputs": []
    },
    {
      "cell_type": "code",
      "source": [
        "emp_1.show()"
      ],
      "metadata": {
        "colab": {
          "base_uri": "https://localhost:8080/"
        },
        "id": "x3f-XMLFCbDA",
        "outputId": "e3c19a26-09ab-4488-d658-270ea1d1eef2"
      },
      "execution_count": null,
      "outputs": [
        {
          "output_type": "stream",
          "name": "stdout",
          "text": [
            "+-----------+-------------+-------------+---+------+------+----------+-------------+\n",
            "|employee_id|department_id|         name|age|gender|salary| hire_date|partition_num|\n",
            "+-----------+-------------+-------------+---+------+------+----------+-------------+\n",
            "|        003|          102|    Bob Brown| 35|  Male| 55000|2014-05-01|            0|\n",
            "|        004|          102|    Alice Lee| 28|Female| 48000|2017-09-30|            0|\n",
            "|        008|          102|     Kate Kim| 29|Female| 51000|2019-10-01|            0|\n",
            "|        014|          107|    Emily Lee| 26|Female| 46000|2019-01-01|            0|\n",
            "|        016|          107|  Kelly Zhang| 30|Female| 49000|2018-04-01|            0|\n",
            "|        020|          102|    Grace Kim| 32|Female| 53000|2018-11-01|            0|\n",
            "|        012|          105|   Susan Chen| 31|Female| 54000|2017-02-15|            1|\n",
            "|        017|          105|  George Wang| 34|  Male| 57000|2016-03-15|            1|\n",
            "|        010|          104|     Lisa Lee| 27|Female| 47000|2018-08-01|            2|\n",
            "|        011|          104|   David Park| 38|  Male| 65000|2015-11-01|            2|\n",
            "|        013|          106|    Brian Kim| 45|  Male| 75000|2011-07-01|            2|\n",
            "|        015|          106|  Michael Lee| 37|  Male| 63000|2014-09-30|            2|\n",
            "|        018|          104|    Nancy Liu| 29|      | 50000|2017-06-01|            2|\n",
            "|        001|          101|     John Doe| 30|  Male| 50000|2015-01-01|            3|\n",
            "|        002|          101|   Jane Smith| 25|Female| 45000|2016-02-15|            3|\n",
            "|        005|          103|    Jack Chan| 40|  Male| 60000|2013-04-01|            3|\n",
            "|        006|          103|    Jill Wong| 32|Female| 52000|2018-07-01|            3|\n",
            "|        007|          101|James Johnson| 42|  Male| 70000|2012-03-15|            3|\n",
            "|        009|          103|      Tom Tan| 33|  Male| 58000|2016-06-01|            3|\n",
            "|        019|          103|  Steven Chen| 36|  Male| 62000|2015-08-01|            3|\n",
            "+-----------+-------------+-------------+---+------+------+----------+-------------+\n",
            "\n"
          ]
        }
      ]
    },
    {
      "cell_type": "code",
      "source": [
        "# INNER JOIN datasets\n",
        "# select e.emp_name, d.department_name, d.department_id, e.salary\n",
        "# from emp e inner join dept d on emp.department_id = dept.department_id\n",
        "\n",
        "df_joined = emp.alias(\"e\").join(dept.alias(\"d\"), how=\"inner\", on=emp.department_id==dept.department_id)"
      ],
      "metadata": {
        "id": "1zb4EAwGCek0"
      },
      "execution_count": null,
      "outputs": []
    },
    {
      "cell_type": "code",
      "source": [
        "df_joined.select(\"e.name\", \"d.department_id\", \"d.department_name\", \"e.salary\").show()"
      ],
      "metadata": {
        "colab": {
          "base_uri": "https://localhost:8080/"
        },
        "id": "AXOE_BFZEW3a",
        "outputId": "9f4ae99c-736c-40ca-a382-d320fa870435"
      },
      "execution_count": null,
      "outputs": [
        {
          "output_type": "stream",
          "name": "stdout",
          "text": [
            "+-------------+-------------+--------------------+------+\n",
            "|         name|department_id|     department_name|salary|\n",
            "+-------------+-------------+--------------------+------+\n",
            "|     John Doe|          101|               Sales| 50000|\n",
            "|   Jane Smith|          101|               Sales| 45000|\n",
            "|James Johnson|          101|               Sales| 70000|\n",
            "|    Bob Brown|          102|           Marketing| 55000|\n",
            "|    Alice Lee|          102|           Marketing| 48000|\n",
            "|     Kate Kim|          102|           Marketing| 51000|\n",
            "|    Grace Kim|          102|           Marketing| 53000|\n",
            "|    Jack Chan|          103|             Finance| 60000|\n",
            "|    Jill Wong|          103|             Finance| 52000|\n",
            "|      Tom Tan|          103|             Finance| 58000|\n",
            "|  Steven Chen|          103|             Finance| 62000|\n",
            "|     Lisa Lee|          104|         Engineering| 47000|\n",
            "|   David Park|          104|         Engineering| 65000|\n",
            "|    Nancy Liu|          104|         Engineering| 50000|\n",
            "|   Susan Chen|          105|     Human Resources| 54000|\n",
            "|  George Wang|          105|     Human Resources| 57000|\n",
            "|    Brian Kim|          106|Research and Deve...| 75000|\n",
            "|  Michael Lee|          106|Research and Deve...| 63000|\n",
            "|    Emily Lee|          107|    Customer Service| 46000|\n",
            "|  Kelly Zhang|          107|    Customer Service| 49000|\n",
            "+-------------+-------------+--------------------+------+\n",
            "\n"
          ]
        }
      ]
    },
    {
      "cell_type": "code",
      "source": [
        "# INNER JOIN datasets\n",
        "# select e.emp_name, d.department_name, d.department_id, e.salary\n",
        "# from emp e inner join dept d on emp.department_id = dept.department_id\n",
        "\n",
        "df_joined = emp.alias(\"e\").join(dept.alias(\"d\"), how=\"left_outer\", on=emp.department_id==dept.department_id)"
      ],
      "metadata": {
        "id": "X5XUV3O8EpTP"
      },
      "execution_count": null,
      "outputs": []
    },
    {
      "cell_type": "code",
      "source": [
        "df_joined.select(\"e.name\", \"d.department_name\", \"d.department_id\", \"e.salary\").show()"
      ],
      "metadata": {
        "colab": {
          "base_uri": "https://localhost:8080/"
        },
        "id": "fwvjrcJUEsJs",
        "outputId": "360af0df-d7cc-4fe8-8920-368e2c523af0"
      },
      "execution_count": null,
      "outputs": [
        {
          "output_type": "stream",
          "name": "stdout",
          "text": [
            "+-------------+--------------------+-------------+------+\n",
            "|         name|     department_name|department_id|salary|\n",
            "+-------------+--------------------+-------------+------+\n",
            "|     John Doe|               Sales|          101| 50000|\n",
            "|   Jane Smith|               Sales|          101| 45000|\n",
            "|James Johnson|               Sales|          101| 70000|\n",
            "|     Lisa Lee|         Engineering|          104| 47000|\n",
            "|    Bob Brown|           Marketing|          102| 55000|\n",
            "|    Alice Lee|           Marketing|          102| 48000|\n",
            "|     Kate Kim|           Marketing|          102| 51000|\n",
            "|    Jack Chan|             Finance|          103| 60000|\n",
            "|    Jill Wong|             Finance|          103| 52000|\n",
            "|      Tom Tan|             Finance|          103| 58000|\n",
            "|    Emily Lee|    Customer Service|          107| 46000|\n",
            "|  Kelly Zhang|    Customer Service|          107| 49000|\n",
            "|   David Park|         Engineering|          104| 65000|\n",
            "|    Nancy Liu|         Engineering|          104| 50000|\n",
            "|    Grace Kim|           Marketing|          102| 53000|\n",
            "|  Steven Chen|             Finance|          103| 62000|\n",
            "|    Brian Kim|Research and Deve...|          106| 75000|\n",
            "|  Michael Lee|Research and Deve...|          106| 63000|\n",
            "|   Susan Chen|     Human Resources|          105| 54000|\n",
            "|  George Wang|     Human Resources|          105| 57000|\n",
            "+-------------+--------------------+-------------+------+\n",
            "\n"
          ]
        }
      ]
    },
    {
      "cell_type": "code",
      "source": [
        "df_joined.select(\"e.name\", \"d.department_name\", \"d.department_id\",\"e.salary\").write.format(\"csv\").save(\"data/output/7/emp_joined.csv\")"
      ],
      "metadata": {
        "id": "iX8Rxl-kE5A1"
      },
      "execution_count": null,
      "outputs": []
    },
    {
      "cell_type": "code",
      "source": [
        "# Bonus TIP\n",
        "# Joins with cascading conditions\n",
        "# Join with Department_id and only for departments 101 or 102\n",
        "# Join with not null/null conditions\n",
        "\n",
        "df_final = emp.join(dept, how=\"left_outer\",\n",
        "                   on=(emp.department_id==dept.department_id) & ((emp.department_id == \"101\") | (emp.department_id == \"102\"))\n",
        "                    & (emp.salary.isNull())\n",
        "                   )"
      ],
      "metadata": {
        "id": "djdcIjETFBJQ"
      },
      "execution_count": null,
      "outputs": []
    },
    {
      "cell_type": "code",
      "source": [
        "df_final.show()"
      ],
      "metadata": {
        "colab": {
          "base_uri": "https://localhost:8080/"
        },
        "id": "WFwiAnXZFKCg",
        "outputId": "969c41bc-08a9-426f-dc2f-fcdd664e0564"
      },
      "execution_count": null,
      "outputs": [
        {
          "output_type": "stream",
          "name": "stdout",
          "text": [
            "+-----------+-------------+-------------+---+------+------+----------+-------------+---------------+----+-------+------+\n",
            "|employee_id|department_id|         name|age|gender|salary| hire_date|department_id|department_name|city|country|budget|\n",
            "+-----------+-------------+-------------+---+------+------+----------+-------------+---------------+----+-------+------+\n",
            "|        001|          101|     John Doe| 30|  Male| 50000|2015-01-01|         NULL|           NULL|NULL|   NULL|  NULL|\n",
            "|        002|          101|   Jane Smith| 25|Female| 45000|2016-02-15|         NULL|           NULL|NULL|   NULL|  NULL|\n",
            "|        007|          101|James Johnson| 42|  Male| 70000|2012-03-15|         NULL|           NULL|NULL|   NULL|  NULL|\n",
            "|        010|          104|     Lisa Lee| 27|Female| 47000|2018-08-01|         NULL|           NULL|NULL|   NULL|  NULL|\n",
            "|        003|          102|    Bob Brown| 35|  Male| 55000|2014-05-01|         NULL|           NULL|NULL|   NULL|  NULL|\n",
            "|        004|          102|    Alice Lee| 28|Female| 48000|2017-09-30|         NULL|           NULL|NULL|   NULL|  NULL|\n",
            "|        008|          102|     Kate Kim| 29|Female| 51000|2019-10-01|         NULL|           NULL|NULL|   NULL|  NULL|\n",
            "|        005|          103|    Jack Chan| 40|  Male| 60000|2013-04-01|         NULL|           NULL|NULL|   NULL|  NULL|\n",
            "|        006|          103|    Jill Wong| 32|Female| 52000|2018-07-01|         NULL|           NULL|NULL|   NULL|  NULL|\n",
            "|        009|          103|      Tom Tan| 33|  Male| 58000|2016-06-01|         NULL|           NULL|NULL|   NULL|  NULL|\n",
            "|        014|          107|    Emily Lee| 26|Female| 46000|2019-01-01|         NULL|           NULL|NULL|   NULL|  NULL|\n",
            "|        016|          107|  Kelly Zhang| 30|Female| 49000|2018-04-01|         NULL|           NULL|NULL|   NULL|  NULL|\n",
            "|        011|          104|   David Park| 38|  Male| 65000|2015-11-01|         NULL|           NULL|NULL|   NULL|  NULL|\n",
            "|        018|          104|    Nancy Liu| 29|      | 50000|2017-06-01|         NULL|           NULL|NULL|   NULL|  NULL|\n",
            "|        020|          102|    Grace Kim| 32|Female| 53000|2018-11-01|         NULL|           NULL|NULL|   NULL|  NULL|\n",
            "|        019|          103|  Steven Chen| 36|  Male| 62000|2015-08-01|         NULL|           NULL|NULL|   NULL|  NULL|\n",
            "|        013|          106|    Brian Kim| 45|  Male| 75000|2011-07-01|         NULL|           NULL|NULL|   NULL|  NULL|\n",
            "|        015|          106|  Michael Lee| 37|  Male| 63000|2014-09-30|         NULL|           NULL|NULL|   NULL|  NULL|\n",
            "|        012|          105|   Susan Chen| 31|Female| 54000|2017-02-15|         NULL|           NULL|NULL|   NULL|  NULL|\n",
            "|        017|          105|  George Wang| 34|  Male| 57000|2016-03-15|         NULL|           NULL|NULL|   NULL|  NULL|\n",
            "+-----------+-------------+-------------+---+------+------+----------+-------------+---------------+----+-------+------+\n",
            "\n"
          ]
        }
      ]
    },
    {
      "cell_type": "code",
      "source": [],
      "metadata": {
        "id": "pAU7UTMnFYiv"
      },
      "execution_count": null,
      "outputs": []
    }
  ]
}